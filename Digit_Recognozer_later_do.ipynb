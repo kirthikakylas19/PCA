{
 "cells": [
  {
   "cell_type": "code",
   "execution_count": null,
   "id": "8e26a926-a99e-4fdd-9292-aeb85af0d7e8",
   "metadata": {},
   "outputs": [],
   "source": [
    "https://www.kaggle.com/c/digit-recognizer/data\n"
   ]
  }
 ],
 "metadata": {
  "kernelspec": {
   "display_name": "Python 3 (ipykernel)",
   "language": "python",
   "name": "python3"
  },
  "language_info": {
   "codemirror_mode": {
    "name": "ipython",
    "version": 3
   },
   "file_extension": ".py",
   "mimetype": "text/x-python",
   "name": "python",
   "nbconvert_exporter": "python",
   "pygments_lexer": "ipython3",
   "version": "3.13.5"
  }
 },
 "nbformat": 4,
 "nbformat_minor": 5
}
